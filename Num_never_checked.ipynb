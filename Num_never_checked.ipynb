{
  "nbformat": 4,
  "nbformat_minor": 0,
  "metadata": {
    "colab": {
      "name": "Num_never_checked.ipynb",
      "provenance": [],
      "collapsed_sections": [],
      "authorship_tag": "ABX9TyOpN2Oy0JW+BbjmdsxtKnZV",
      "include_colab_link": true
    },
    "kernelspec": {
      "name": "python3",
      "display_name": "Python 3"
    }
  },
  "cells": [
    {
      "cell_type": "markdown",
      "metadata": {
        "id": "view-in-github",
        "colab_type": "text"
      },
      "source": [
        "<a href=\"https://colab.research.google.com/github/MoGGit/basic-python-data-analysis/blob/main/Num_never_checked.ipynb\" target=\"_parent\"><img src=\"https://colab.research.google.com/assets/colab-badge.svg\" alt=\"Open In Colab\"/></a>"
      ]
    },
    {
      "cell_type": "code",
      "metadata": {
        "id": "hDMDFvid3P_s",
        "colab": {
          "base_uri": "https://localhost:8080/"
        },
        "outputId": "7fa7c6b8-6509-420e-b7b1-8137e79695e0"
      },
      "source": [
        "import pandas as pd\n",
        "import numpy as np\n",
        "\n",
        "def num_never_checked_out():\n",
        "  lib_books = pd.read_csv(\"https://tf-assets-prod.s3.amazonaws.com/tf-curric/data-analytics-bootcamp/library-books.csv\")\n",
        "  lib_people = pd.read_csv(\"https://tf-assets-prod.s3.amazonaws.com/tf-curric/data-analytics-bootcamp/library-people.csv\")\n",
        "  lib_transactions = pd.read_csv('https://tf-assets-prod.s3.amazonaws.com/tf-curric/data-analytics-bootcamp/library-transactions.csv')\n",
        "  lib_transactions['checkout_date'].dropna()\n",
        "  lib_uniquebooks = np.unique (lib_transactions ['book_id'])\n",
        "  filter = lib_books['book_id'].isin(lib_uniquebooks)\n",
        "  return sum(~filter)\n",
        "\n",
        "  #lib_books[filter]\n",
        "  \n",
        "  \n",
        "  \n",
        "# return the oposit of isin function from pandas ~\n",
        "# measure the number of books\n",
        "\n",
        "  \n",
        "  #return lib_uniquebooks \n",
        "  #print (book == lib_transactions['book_id'])\n",
        "  #print ( book is in lib_transactions['book_id']) \n",
        "num_never_checked_out ()\n"
      ],
      "execution_count": null,
      "outputs": [
        {
          "output_type": "execute_result",
          "data": {
            "text/plain": [
              "1"
            ]
          },
          "metadata": {
            "tags": []
          },
          "execution_count": 8
        }
      ]
    },
    {
      "cell_type": "code",
      "metadata": {
        "id": "e3ydtrY-U_fp"
      },
      "source": [
        ""
      ],
      "execution_count": null,
      "outputs": []
    }
  ]
}