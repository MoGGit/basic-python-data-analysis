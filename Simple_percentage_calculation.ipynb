{
  "nbformat": 4,
  "nbformat_minor": 0,
  "metadata": {
    "colab": {
      "name": "Simple percentage calculation.ipynb",
      "provenance": [],
      "collapsed_sections": [],
      "authorship_tag": "ABX9TyNEmVYrehr073LhxputZ+rL",
      "include_colab_link": true
    },
    "kernelspec": {
      "name": "python3",
      "display_name": "Python 3"
    }
  },
  "cells": [
    {
      "cell_type": "markdown",
      "metadata": {
        "id": "view-in-github",
        "colab_type": "text"
      },
      "source": [
        "<a href=\"https://colab.research.google.com/github/MoGGit/basic-python-data-analysis/blob/main/Simple_percentage_calculation.ipynb\" target=\"_parent\"><img src=\"https://colab.research.google.com/assets/colab-badge.svg\" alt=\"Open In Colab\"/></a>"
      ]
    },
    {
      "cell_type": "code",
      "metadata": {
        "id": "FFHolZ79UpzG"
      },
      "source": [
        "import decimal\n",
        "def __init__():\n",
        "  global percentage_value, percentage_increase, init_value, cycle_count, total_value\n",
        "  percentage_value =0.00\n",
        "  percentage_increase = 0.8\n",
        "  init_value = 0.8\n",
        "  total_value = init_value\n",
        "  count_per_day = 1\n",
        "  cycle_count = 30\n",
        "\n",
        "\n",
        "def mpc_input_request():\n",
        "  try: \n",
        "    global total_value,init_value, percentage_increase, cycle_count,total, count_per_day, total_count\n",
        "    \n",
        "    cycle_count = int(input (\"Number of days in action :\") or cycle_count)\n",
        "    \n",
        "    init_value = round ((float (input (\"Initial value :\") or init_value )),8)\n",
        "    \n",
        "    total_value = init_value\n",
        "    total = init_value\n",
        "\n",
        "    percentage_increase = (round ((float (input (\"percentage increase :\") or percentage_increase)),8))/100\n",
        "    \n",
        "    count_per_day = int(input (\"Number of trade per day :\") or count_per_day)\n",
        "    total_count = cycle_count*count_per_day\n",
        "    \n",
        "    print( f'\\nInitial value : {init_value} \\nPrecentage increased : {percentage_increase*100} \\nTrade per day : {count_per_day} \\nMonths in trade : {int(cycle_count/30)} \\nDays in trade : {cycle_count}')\n",
        "    \n",
        "  \n",
        "  except Exception:\n",
        "    print(\"Incorrect value\")\n",
        "    mpc_input_request()\n",
        "  \n",
        "\n",
        "def single_calculation ():\n",
        "  global total_value, percentage_increase, percentage_value, total, count_per_day\n",
        "  \n",
        "  percentage_value = round ((total_value * percentage_increase),8)\n",
        "  total = round((total + percentage_value),8)\n",
        "  total_value = total\n",
        "  #print (f'\\nlatest percentage_value : {percentage_value} \\ntotal : {total} ')\n",
        "\n",
        "\n",
        "\n",
        "def differ_cal(t1,t2,d=1):\n",
        "  if d==1 :\n",
        "    return round(((float(t1-t2) /float(t2))*100),2)\n",
        "  else :\n",
        "    return round(((float(t2-t1) /float(t1))*100),2)\n",
        "\n",
        "def percent_change (t1,p):\n",
        "  return round((t1 * (1 + (p/100))),2)\n",
        "  #25000 x 1.09 = 27250"
      ],
      "execution_count": 3,
      "outputs": []
    },
    {
      "cell_type": "code",
      "metadata": {
        "colab": {
          "base_uri": "https://localhost:8080/"
        },
        "id": "Fh63GQY0oxx9",
        "outputId": "ec098786-fc23-4eda-e137-d933deeb8419"
      },
      "source": [
        "# Percentage difference\n",
        "differ_cal(0.3174,0.3304,2)\n",
        "#differ_cal(0.8,1.45335739,0)\n"
      ],
      "execution_count": 13,
      "outputs": [
        {
          "output_type": "execute_result",
          "data": {
            "text/plain": [
              "4.1"
            ]
          },
          "metadata": {
            "tags": []
          },
          "execution_count": 13
        }
      ]
    },
    {
      "cell_type": "code",
      "metadata": {
        "colab": {
          "base_uri": "https://localhost:8080/"
        },
        "id": "3uaDjjVkRyxw",
        "outputId": "bc9362fa-6b50-4ede-a1c7-8157d1da799c"
      },
      "source": [
        "# Percentage increase\n",
        "percent_change (17140,26)"
      ],
      "execution_count": 17,
      "outputs": [
        {
          "output_type": "execute_result",
          "data": {
            "text/plain": [
              "21596.4"
            ]
          },
          "metadata": {
            "tags": []
          },
          "execution_count": 17
        }
      ]
    },
    {
      "cell_type": "code",
      "metadata": {
        "colab": {
          "base_uri": "https://localhost:8080/"
        },
        "id": "7NkFQoIUOLIH",
        "outputId": "7ab42bb1-bbe6-46d5-8c54-0f4c8712c9eb"
      },
      "source": [
        "# Multiply percentage calculation\n",
        "\n",
        "__init__()\n",
        "mpc_input_request()\n",
        "for x in range (0, int(total_count)):\n",
        "    single_calculation()\n",
        "    \n",
        "#total= init_value * percentage_value\n",
        "\n",
        "print (f'Increased amount: {round((total - init_value),8)} \\nLatest trade profit per day : {percentage_value} \\nsub total: {total} \\ntotal profit of %{differ_cal(init_value,total,0)}')\n"
      ],
      "execution_count": 12,
      "outputs": [
        {
          "output_type": "stream",
          "text": [
            "Number of days in action :\n",
            "Initial value :0.8\n",
            "percentage increase :1\n",
            "Number of trade per day :3\n",
            "\n",
            "Initial value : 0.8 \n",
            "Precentage increased : 1.0 \n",
            "Trade per day : 3 \n",
            "Months in trade : 1 \n",
            "Days in trade : 30\n",
            "Increased amount: 1.15890619 \n",
            "Latest trade profit per day : 0.01939511 \n",
            "sub total: 1.95890619 \n",
            "total profit of %144.86\n"
          ],
          "name": "stdout"
        }
      ]
    },
    {
      "cell_type": "code",
      "metadata": {
        "id": "0bJkc80mZcCo"
      },
      "source": [
        "0.3246 - 0.317"
      ],
      "execution_count": null,
      "outputs": []
    },
    {
      "cell_type": "code",
      "metadata": {
        "id": "56doaCSIg0ZJ"
      },
      "source": [
        "print(\"Available Calculations: \")\n",
        "print(\"A: X is what \" + \"%\" + \" of Y?\")\n",
        "print(\"B: What is X\" + \"%\" + \" of Y?\")\n",
        "print(\"C: Y is how much \" + \"%\" + \" more/less than X?\")\n",
        "print()\n",
        "\n",
        "while True:\n",
        "    option = input(\"Option: \")\n",
        "    if option.upper() == 'A':\n",
        "        break\n",
        "    elif option.upper() == 'B':\n",
        "        break\n",
        "    elif option.upper() == 'C':\n",
        "        break\n",
        "    else:\n",
        "        print(\"Invalid Option.\")\n",
        "\n",
        "print()\n",
        "\n",
        "while True:\n",
        "    try:\n",
        "        x = float(input(\"X: \"))\n",
        "        y = float(input(\"Y: \"))\n",
        "        break\n",
        "    except ValueError:\n",
        "        print(\"Invalid Value.\")\n",
        "\n",
        "print()\n",
        "if option.upper() == 'A':\n",
        "    z = x/y*100\n",
        "    print(str(z) + \"%\")\n",
        "elif option.upper() == 'B':\n",
        "    z = x/100*y\n",
        "    print(str(z))\n",
        "elif option.upper() == 'C':\n",
        "    z = (y-x)/x*100\n",
        "    print(str(z) + \"%\")\n",
        "\n",
        "input(\"Press Enter to close program. \\n\")\n"
      ],
      "execution_count": null,
      "outputs": []
    }
  ]
}