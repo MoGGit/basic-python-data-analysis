{
  "nbformat": 4,
  "nbformat_minor": 0,
  "metadata": {
    "colab": {
      "name": "Simple percentage calculation.ipynb",
      "provenance": [],
      "collapsed_sections": [],
      "authorship_tag": "ABX9TyNvgbDwbdt+27yBndr7s9OL",
      "include_colab_link": true
    },
    "kernelspec": {
      "name": "python3",
      "display_name": "Python 3"
    }
  },
  "cells": [
    {
      "cell_type": "markdown",
      "metadata": {
        "id": "view-in-github",
        "colab_type": "text"
      },
      "source": [
        "<a href=\"https://colab.research.google.com/github/MoGGit/basic-python-data-analysis/blob/main/Simple_percentage_calculation.ipynb\" target=\"_parent\"><img src=\"https://colab.research.google.com/assets/colab-badge.svg\" alt=\"Open In Colab\"/></a>"
      ]
    },
    {
      "cell_type": "code",
      "metadata": {
        "colab": {
          "base_uri": "https://localhost:8080/"
        },
        "id": "FFHolZ79UpzG",
        "outputId": "406f5fee-4f71-4ede-cd71-4ae77fd02511"
      },
      "source": [
        "import decimal\n",
        "percentage_value =0.0\n",
        "percentage_increase = 0.15\n",
        "init_value = 0.3188\n",
        "cycle_count = 1\n",
        "\n",
        "def input_request():\n",
        "  try: \n",
        "    global init_value, percentage_increase, cycle_count,total\n",
        "    \n",
        "    init_value = round ((float (input (\"Initial value :\") or init_value )),5)\n",
        "    \n",
        "\n",
        "    total = init_value\n",
        "    percentage_increase = (round ((float (input (\"percentage increase :\") or percentage_increase)),5))/100\n",
        "    \n",
        "    cycle_count = int(input (\"Number of repetative action :\") or cycle_count)\n",
        "    print( f'\\ninitial value : {init_value} \\nprecentage increased :{percentage_increase} \\nrepeat cycle : {cycle_count}')\n",
        "    \n",
        "    return ()\n",
        "  except Exception:\n",
        "    print(\"Incorrect value\")\n",
        "    input_request()\n",
        "\n",
        "\n",
        "input_request()\n",
        "\n",
        "#def cycle_counter\n",
        "\n",
        "\n",
        "percentage_value = round ((init_value * percentage_increase),5)\n",
        "total = total + percentage_value\n",
        "print (f'\\nlatest percentage_value : {percentage_value} \\ntotal : {round(total,5)} ')\n",
        "\n"
      ],
      "execution_count": 32,
      "outputs": [
        {
          "output_type": "stream",
          "text": [
            "Initial value :\n",
            "percentage increase :\n",
            "Number of repetative action :\n",
            "\n",
            "initial value : 0.3188 \n",
            "precentage increased :0.0015 \n",
            "repeat cycle : 1\n",
            "\n",
            "latest percentage_value : 0.00048 \n",
            "total : 0.31928 \n"
          ],
          "name": "stdout"
        }
      ]
    },
    {
      "cell_type": "code",
      "metadata": {
        "id": "_eA4C9ikmnKh"
      },
      "source": [
        "\n",
        "for x in range (0, int(cycle_count)):\n",
        "    x *= 2\n",
        "    \n",
        "total= init_value * percentage_value\n",
        "print (total)\n"
      ],
      "execution_count": null,
      "outputs": []
    },
    {
      "cell_type": "code",
      "metadata": {
        "id": "Fh63GQY0oxx9"
      },
      "source": [
        ""
      ],
      "execution_count": null,
      "outputs": []
    }
  ]
}