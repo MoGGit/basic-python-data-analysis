{
  "nbformat": 4,
  "nbformat_minor": 0,
  "metadata": {
    "colab": {
      "name": "Simple percentage calculation.ipynb",
      "provenance": [],
      "collapsed_sections": [],
      "authorship_tag": "ABX9TyOpnKNqrmg2BL7TnWqsnUzc",
      "include_colab_link": true
    },
    "kernelspec": {
      "name": "python3",
      "display_name": "Python 3"
    }
  },
  "cells": [
    {
      "cell_type": "markdown",
      "metadata": {
        "id": "view-in-github",
        "colab_type": "text"
      },
      "source": [
        "<a href=\"https://colab.research.google.com/github/MoGGit/basic-python-data-analysis/blob/main/Simple_percentage_calculation.ipynb\" target=\"_parent\"><img src=\"https://colab.research.google.com/assets/colab-badge.svg\" alt=\"Open In Colab\"/></a>"
      ]
    },
    {
      "cell_type": "code",
      "metadata": {
        "colab": {
          "base_uri": "https://localhost:8080/"
        },
        "id": "FFHolZ79UpzG",
        "outputId": "c077ded9-957f-4b49-c966-d8854700980e"
      },
      "source": [
        "import decimal\n",
        "\n",
        "init_value = 0\n",
        "\n",
        "def input_request():\n",
        "  try: \n",
        "    global init_value, percentage_value, cycle_count\n",
        "    \n",
        "    init_value = round ((float (input (\"Initial value :\"))),5)\n",
        "    percentage_value =round ((float (input (\"percentage increase :\"))),5)\n",
        "    cycle_count = int(input (\"Number of repetative action :\"))\n",
        "    \n",
        "    return ()\n",
        "  except Exception:\n",
        "    print(\"Incorrect value\")\n",
        "    input_request()\n",
        "\n",
        "\n",
        "input_request()\n",
        "print (init_value)"
      ],
      "execution_count": 49,
      "outputs": [
        {
          "output_type": "stream",
          "text": [
            "Initial value :1\n",
            "percentage increase :1\n",
            "Number of repetative action :1\n",
            "1.0\n"
          ],
          "name": "stdout"
        }
      ]
    },
    {
      "cell_type": "code",
      "metadata": {
        "id": "dmQGvG9Q_iT9"
      },
      "source": [
        "1\n",
        "value = float(input(\"Input your number: \"))\n",
        "print (\"You inputted \" + str(value))\n",
        "new_value = \"{:.2f}\".format(value)\n",
        "print (\"After formatting, your number has become: \" + str(new_value))"
      ],
      "execution_count": null,
      "outputs": []
    },
    {
      "cell_type": "code",
      "metadata": {
        "colab": {
          "base_uri": "https://localhost:8080/",
          "height": 181
        },
        "id": "_eA4C9ikmnKh",
        "outputId": "5bcda180-4329-48df-e82e-6d4b839291d4"
      },
      "source": [
        "1#for x in range (0, int(cycle_count)):\n",
        "#    x *= 2\n",
        "    \n",
        "total= init_value * percentage_value\n",
        "print (total)\n"
      ],
      "execution_count": 6,
      "outputs": [
        {
          "output_type": "error",
          "ename": "TypeError",
          "evalue": "ignored",
          "traceback": [
            "\u001b[0;31m---------------------------------------------------------------------------\u001b[0m",
            "\u001b[0;31mTypeError\u001b[0m                                 Traceback (most recent call last)",
            "\u001b[0;32m<ipython-input-6-33c548309214>\u001b[0m in \u001b[0;36m<module>\u001b[0;34m()\u001b[0m\n\u001b[0;32m----> 1\u001b[0;31m \u001b[0mtotal\u001b[0m\u001b[0;34m=\u001b[0m \u001b[0minit_value\u001b[0m \u001b[0;34m*\u001b[0m \u001b[0mpercentage_value\u001b[0m\u001b[0;34m\u001b[0m\u001b[0;34m\u001b[0m\u001b[0m\n\u001b[0m\u001b[1;32m      2\u001b[0m \u001b[0mprint\u001b[0m \u001b[0;34m(\u001b[0m\u001b[0mtotal\u001b[0m\u001b[0;34m)\u001b[0m\u001b[0;34m\u001b[0m\u001b[0;34m\u001b[0m\u001b[0m\n",
            "\u001b[0;31mTypeError\u001b[0m: can't multiply sequence by non-int of type 'str'"
          ]
        }
      ]
    },
    {
      "cell_type": "code",
      "metadata": {
        "id": "Fh63GQY0oxx9"
      },
      "source": [
        ""
      ],
      "execution_count": null,
      "outputs": []
    }
  ]
}