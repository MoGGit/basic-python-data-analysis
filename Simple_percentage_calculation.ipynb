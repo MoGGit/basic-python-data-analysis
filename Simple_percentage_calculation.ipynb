{
  "nbformat": 4,
  "nbformat_minor": 0,
  "metadata": {
    "colab": {
      "name": "Simple percentage calculation.ipynb",
      "provenance": [],
      "collapsed_sections": [],
      "authorship_tag": "ABX9TyNwestnDNnEZGm0SDzyY1C1",
      "include_colab_link": true
    },
    "kernelspec": {
      "name": "python3",
      "display_name": "Python 3"
    }
  },
  "cells": [
    {
      "cell_type": "markdown",
      "metadata": {
        "id": "view-in-github",
        "colab_type": "text"
      },
      "source": [
        "<a href=\"https://colab.research.google.com/github/MoGGit/basic-python-data-analysis/blob/main/Simple_percentage_calculation.ipynb\" target=\"_parent\"><img src=\"https://colab.research.google.com/assets/colab-badge.svg\" alt=\"Open In Colab\"/></a>"
      ]
    },
    {
      "cell_type": "code",
      "metadata": {
        "id": "FFHolZ79UpzG"
      },
      "source": [
        "import decimal\n",
        "def __init__():\n",
        "  global percentage_value, percentage_increase, init_value, cycle_count, total_value\n",
        "  percentage_value =0.00\n",
        "  percentage_increase = 1\n",
        "  init_value = 0.8\n",
        "  total_value = init_value\n",
        "  count_per_day = 1\n",
        "  cycle_count = 30\n",
        "\n",
        "\n",
        "def mpc_input_request():\n",
        "  try: \n",
        "    global total_value,init_value, percentage_increase, cycle_count,total, count_per_day, total_count\n",
        "    \n",
        "    cycle_count = int(input (\"Number of days in action :\") or cycle_count)\n",
        "    \n",
        "    init_value = round ((float (input (\"Initial value :\") or init_value )),8)\n",
        "    \n",
        "    total_value = init_value\n",
        "    total = init_value\n",
        "\n",
        "    percentage_increase = (round ((float (input (\"percentage increase :\") or percentage_increase)),8))/100\n",
        "    \n",
        "    count_per_day = int(input (\"Number of trade per day :\") or count_per_day)\n",
        "    total_count = cycle_count*count_per_day\n",
        "    \n",
        "    print( f'\\nInitial value : {init_value} \\nPrecentage increased : {percentage_increase*100} \\nTrade per day : {count_per_day} \\nMonths in trade : {int(cycle_count/30)} \\nDays in trade : {cycle_count}')\n",
        "    \n",
        "  \n",
        "  except Exception:\n",
        "    print(\"Incorrect value\")\n",
        "    mpc_input_request()\n",
        "  \n",
        "\n",
        "def single_calculation ():\n",
        "  global total_value, percentage_increase, percentage_value, total, count_per_day\n",
        "  \n",
        "  percentage_value = round ((total_value * percentage_increase),8)\n",
        "  total = round((total + percentage_value),8)\n",
        "  total_value = total\n",
        "  #print (f'\\nlatest percentage_value : {percentage_value} \\ntotal : {total} ')\n",
        "\n",
        "\n",
        "\n",
        "def differ_cal(t1,t2,d=1):\n",
        "  if d==1 :\n",
        "    return round(((float(t1*10) /float(t2/10))*100),2)\n",
        "  else :\n",
        "    return round(((float(t2) /float(t1))*100),2)\n",
        "\n",
        "def percent_change (t1,p):\n",
        "  return round((t1 * (1 + (p/100))),2)\n",
        "  #25000 x 1.09 = 27250"
      ],
      "execution_count": null,
      "outputs": []
    },
    {
      "cell_type": "code",
      "metadata": {
        "colab": {
          "base_uri": "https://localhost:8080/"
        },
        "id": "Fh63GQY0oxx9",
        "outputId": "92e69ad7-5739-4e94-9716-02e20027a845"
      },
      "source": [
        "# Percentage difference\n",
        "differ_cal(0.3174,0.3256,1)\n",
        "#differ_cal(0.8,1.45335739,0)\n"
      ],
      "execution_count": 49,
      "outputs": [
        {
          "output_type": "execute_result",
          "data": {
            "text/plain": [
              "10258.35"
            ]
          },
          "metadata": {
            "tags": []
          },
          "execution_count": 49
        }
      ]
    },
    {
      "cell_type": "code",
      "metadata": {
        "colab": {
          "base_uri": "https://localhost:8080/"
        },
        "id": "3uaDjjVkRyxw",
        "outputId": "3f5273dc-aad8-4596-e1c8-29093beaf5e6"
      },
      "source": [
        "# Percentage increase\n",
        "percent_change (17140,26)"
      ],
      "execution_count": 9,
      "outputs": [
        {
          "output_type": "execute_result",
          "data": {
            "text/plain": [
              "21596.4"
            ]
          },
          "metadata": {
            "tags": []
          },
          "execution_count": 9
        }
      ]
    },
    {
      "cell_type": "code",
      "metadata": {
        "colab": {
          "base_uri": "https://localhost:8080/"
        },
        "id": "7NkFQoIUOLIH",
        "outputId": "5283ed92-3f71-4a92-9040-a9a57bfb3ea9"
      },
      "source": [
        "# Multiply percentage calculation\n",
        "\n",
        "__init__()\n",
        "mpc_input_request()\n",
        "for x in range (0, int(total_count)):\n",
        "    single_calculation()\n",
        "    \n",
        "#total= init_value * percentage_value\n",
        "\n",
        "print (f'Increased amount: {round((total - init_value),8)} \\nLatest trade profit per day : {percentage_value*count_per_day} \\nsub total: {total} \\ntotal profit of %{differ_cal(init_value,(round((total - init_value),8)),0)} ')\n"
      ],
      "execution_count": null,
      "outputs": [
        {
          "output_type": "stream",
          "text": [
            "Number of days in action :\n",
            "Initial value :\n",
            "percentage increase :\n",
            "Number of trade per day :\n",
            "Incorrect value\n",
            "Number of days in action :\n",
            "Initial value :\n"
          ],
          "name": "stdout"
        }
      ]
    },
    {
      "cell_type": "code",
      "metadata": {
        "colab": {
          "base_uri": "https://localhost:8080/"
        },
        "id": "0bJkc80mZcCo",
        "outputId": "0adf38a7-e578-4a91-eac9-c22b1b0afafc"
      },
      "source": [
        "0.3246 - 0.317"
      ],
      "execution_count": 149,
      "outputs": [
        {
          "output_type": "execute_result",
          "data": {
            "text/plain": [
              "0.007599999999999996"
            ]
          },
          "metadata": {
            "tags": []
          },
          "execution_count": 149
        }
      ]
    },
    {
      "cell_type": "code",
      "metadata": {
        "colab": {
          "base_uri": "https://localhost:8080/",
          "height": 256
        },
        "id": "56doaCSIg0ZJ",
        "outputId": "5b9fdf74-2d07-4cca-ce24-bb7ef07e33ce"
      },
      "source": [
        "print(\"Available Calculations: \")\n",
        "print(\"A: X is what \" + \"%\" + \" of Y?\")\n",
        "print(\"B: What is X\" + \"%\" + \" of Y?\")\n",
        "print(\"C: Y is how much \" + \"%\" + \" more/less than X?\")\n",
        "print()\n",
        "\n",
        "while True:\n",
        "    option = input(\"Option: \")\n",
        "    if option.upper() == 'A':\n",
        "        break\n",
        "    elif option.upper() == 'B':\n",
        "        break\n",
        "    elif option.upper() == 'C':\n",
        "        break\n",
        "    else:\n",
        "        print(\"Invalid Option.\")\n",
        "\n",
        "print()\n",
        "\n",
        "while True:\n",
        "    try:\n",
        "        x = float(input(\"X: \"))\n",
        "        y = float(input(\"Y: \"))\n",
        "        break\n",
        "    except ValueError:\n",
        "        print(\"Invalid Value.\")\n",
        "\n",
        "print()\n",
        "if option.upper() == 'A':\n",
        "    z = x/y*100\n",
        "    print(str(z) + \"%\")\n",
        "elif option.upper() == 'B':\n",
        "    z = x/100*y\n",
        "    print(str(z))\n",
        "elif option.upper() == 'C':\n",
        "    z = (y-x)/x*100\n",
        "    print(str(z) + \"%\")\n",
        "\n",
        "input(\"Press Enter to close program. \\n\")\n"
      ],
      "execution_count": 7,
      "outputs": [
        {
          "output_type": "stream",
          "text": [
            "Available Calculations: \n",
            "A: X is what % of Y?\n",
            "B: What is X% of Y?\n",
            "C: Y is how much % more/less than X?\n",
            "\n",
            "Option: A\n",
            "\n",
            "X: 1.07827914 \n",
            "Y: 0.8\n",
            "\n",
            "134.78489249999998%\n",
            "Press Enter to close program. \n",
            "\n"
          ],
          "name": "stdout"
        },
        {
          "output_type": "execute_result",
          "data": {
            "application/vnd.google.colaboratory.intrinsic+json": {
              "type": "string"
            },
            "text/plain": [
              "''"
            ]
          },
          "metadata": {
            "tags": []
          },
          "execution_count": 7
        }
      ]
    }
  ]
}