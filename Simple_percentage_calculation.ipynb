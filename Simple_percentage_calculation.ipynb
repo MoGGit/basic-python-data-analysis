{
  "nbformat": 4,
  "nbformat_minor": 0,
  "metadata": {
    "colab": {
      "name": "Simple percentage calculation.ipynb",
      "provenance": [],
      "collapsed_sections": [],
      "authorship_tag": "ABX9TyMwuugI1dweK93iHMDPBdc0",
      "include_colab_link": true
    },
    "kernelspec": {
      "name": "python3",
      "display_name": "Python 3"
    }
  },
  "cells": [
    {
      "cell_type": "markdown",
      "metadata": {
        "id": "view-in-github",
        "colab_type": "text"
      },
      "source": [
        "<a href=\"https://colab.research.google.com/github/MoGGit/basic-python-data-analysis/blob/main/Simple_percentage_calculation.ipynb\" target=\"_parent\"><img src=\"https://colab.research.google.com/assets/colab-badge.svg\" alt=\"Open In Colab\"/></a>"
      ]
    },
    {
      "cell_type": "code",
      "metadata": {
        "id": "FFHolZ79UpzG"
      },
      "source": [
        "import decimal\n",
        "def __init__():\n",
        "  global percentage_value, percentage_increase, init_value, cycle_count, total_value\n",
        "  percentage_value =0.0\n",
        "  percentage_increase = 0.13\n",
        "  init_value = 0.31877\n",
        "  total_value = init_value\n",
        "  cycle_count = 1\n",
        "\n",
        "def mpc_input_request():\n",
        "  try: \n",
        "    global total_value,init_value, percentage_increase, cycle_count,total\n",
        "    \n",
        "    init_value = round ((float (input (\"Initial value :\") or init_value )),8)\n",
        "    \n",
        "    total_value = init_value\n",
        "    total = init_value\n",
        "    percentage_increase = (round ((float (input (\"percentage increase :\") or percentage_increase)),8))/100\n",
        "    \n",
        "    cycle_count = int(input (\"Number of repetative action :\") or cycle_count)\n",
        "    print( f'\\ninitial value : {init_value} \\nprecentage increased :{percentage_increase} \\nrepeat cycle : {cycle_count}')\n",
        "    \n",
        "  \n",
        "  except Exception:\n",
        "    print(\"Incorrect value\")\n",
        "    input_request()\n",
        "  \n",
        "\n",
        "def single_calculation ():\n",
        "  global total_value, percentage_increase, percentage_value, total\n",
        "  \n",
        "  percentage_value = round ((total_value * percentage_increase),8)\n",
        "  total = round((total + percentage_value),8)\n",
        "  total_value = total\n",
        "  print (f'\\nlatest percentage_value : {percentage_value} \\ntotal : {total} ')\n",
        "import pandas as pd\n",
        "\n",
        "\n",
        "def differ_cal(t1,t2,d=1):\n",
        "  if d==1 :\n",
        "    return round((((float(t1) - float(t2))/float(t1))*100),3)\n",
        "  else :\n",
        "    return round((((float(t2) - float(t1))/float(t2))*100),3)\n",
        "\n",
        "def percent_change (t1,p):\n",
        "  return round((t1 * (1 + (p/100))),2)\n",
        "  #25000 x 1.09 = 27250"
      ],
      "execution_count": 237,
      "outputs": []
    },
    {
      "cell_type": "code",
      "metadata": {
        "colab": {
          "base_uri": "https://localhost:8080/"
        },
        "id": "Fh63GQY0oxx9",
        "outputId": "a37a8ec8-56dc-416a-a5a5-b420b8a05feb"
      },
      "source": [
        "# Percentage difference\n",
        "differ_cal(0.9999,0.9986,1)"
      ],
      "execution_count": 239,
      "outputs": [
        {
          "output_type": "execute_result",
          "data": {
            "text/plain": [
              "0.13"
            ]
          },
          "metadata": {
            "tags": []
          },
          "execution_count": 239
        }
      ]
    },
    {
      "cell_type": "code",
      "metadata": {
        "colab": {
          "base_uri": "https://localhost:8080/"
        },
        "id": "3uaDjjVkRyxw",
        "outputId": "8ff57a85-6399-49a0-8613-bb0b8971ed83"
      },
      "source": [
        "# Percentage increase\n",
        "percent_change (19360,1.9)"
      ],
      "execution_count": 223,
      "outputs": [
        {
          "output_type": "execute_result",
          "data": {
            "text/plain": [
              "19727.84"
            ]
          },
          "metadata": {
            "tags": []
          },
          "execution_count": 223
        }
      ]
    },
    {
      "cell_type": "code",
      "metadata": {
        "colab": {
          "base_uri": "https://localhost:8080/"
        },
        "id": "7NkFQoIUOLIH",
        "outputId": "7eda272a-8c57-4235-9c17-4a6e51a77b64"
      },
      "source": [
        "# Multiply percentage calculation\n",
        "\n",
        "__init__()\n",
        "mpc_input_request()\n",
        "for x in range (0, int(cycle_count)):\n",
        "    single_calculation()\n",
        "    \n",
        "#total= init_value * percentage_value\n",
        "print (f'Increased amount: {round((total - init_value),8)} \\nsub total: {total}')\n"
      ],
      "execution_count": 240,
      "outputs": [
        {
          "output_type": "stream",
          "text": [
            "Initial value :0.3187\n",
            "percentage increase :\n",
            "Number of repetative action :\n",
            "\n",
            "initial value : 0.3187 \n",
            "precentage increased :0.0015 \n",
            "repeat cycle : 1\n",
            "\n",
            "latest percentage_value : 0.00047805 \n",
            "total : 0.31917805 \n",
            "Increased amount: 0.00047805 \n",
            "sub total: 0.31917805\n"
          ],
          "name": "stdout"
        }
      ]
    },
    {
      "cell_type": "code",
      "metadata": {
        "id": "0bJkc80mZcCo"
      },
      "source": [
        ""
      ],
      "execution_count": null,
      "outputs": []
    }
  ]
}